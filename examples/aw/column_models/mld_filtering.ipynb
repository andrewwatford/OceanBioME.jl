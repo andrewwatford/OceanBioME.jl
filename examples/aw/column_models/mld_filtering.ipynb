{
 "cells": [
  {
   "cell_type": "code",
   "execution_count": 7,
   "metadata": {},
   "outputs": [],
   "source": [
    "import numpy as np                 #for general calculations.\n",
    "import matplotlib.pyplot as plt    #making plots.\n",
    "import xarray as xr                #loading and working with data in an optimal way.\n",
    "\n",
    "from matplotlib.animation import FuncAnimation  #creating animations and videos.\n",
    "from IPython.display import Video, HTML         #embedding videos in the notebook\n",
    "\n",
    "import cartopy.crs as ccrs         # to plot maps with different projections\n",
    "import cartopy.feature as cfeature # to plot coastlines, land, borders, etc."
   ]
  },
  {
   "cell_type": "code",
   "execution_count": 8,
   "metadata": {},
   "outputs": [],
   "source": [
    "ds = xr.load_dataset(\"./data/nc/mixed_layer_properties_mean.nc\")\n",
    "latitude_bounds = slice(45, 50)\n",
    "longitude_bounds = slice(325, 335)"
   ]
  },
  {
   "cell_type": "code",
   "execution_count": 9,
   "metadata": {},
   "outputs": [],
   "source": [
    "ds_filtered = ds.sel(latitude = latitude_bounds, longitude = longitude_bounds)\n",
    "weights = np.cos(np.deg2rad(ds.latitude)); weights.name = \"weights\"\n",
    "ds_mean_unweighted = ds_filtered.mean(dim=['latitude','longitude'])\n",
    "ds_mean = ds_filtered.weighted(weights).mean(dim=['latitude','longitude'])\n",
    "ds_mean[\"month_corr\"] = [m - 0.5 for m in ds_mean[\"month\"]]"
   ]
  },
  {
   "cell_type": "code",
   "execution_count": 10,
   "metadata": {},
   "outputs": [],
   "source": [
    "# ds_mean.to_netcdf(\"./data/nc/mixed_layer_processed.nc\")"
   ]
  },
  {
   "cell_type": "code",
   "execution_count": 11,
   "metadata": {},
   "outputs": [],
   "source": [
    "depth_video=-ds_filtered['depth_mean']\n",
    "\n",
    "def animation_func(i):\n",
    "    fig.clear()\n",
    "    ax = plt.axes(projection=ccrs.PlateCarree())                    #specifying the projection such that coasline data could be added\n",
    "    depth_video.isel(month=i).plot(cmap='RdBu_r',vmin=-200, vmax=0) #plotting the data\n",
    "    ax.add_feature(cfeature.COASTLINE)                              #adding the coastline over the plotted data\n",
    "    ax.add_feature(cfeature.BORDERS)                                #adding the borders\n",
    "    plt.axis('off')\n",
    "\n",
    "fig = plt.figure(figsize=(10,4))\n",
    "animation = FuncAnimation(fig, animation_func, \n",
    "                          frames = len(depth_video.month))\n",
    "\n",
    "animation.save('depth.mp4') \n",
    "plt.close()"
   ]
  }
 ],
 "metadata": {
  "kernelspec": {
   "display_name": "dso_uw",
   "language": "python",
   "name": "python3"
  },
  "language_info": {
   "codemirror_mode": {
    "name": "ipython",
    "version": 3
   },
   "file_extension": ".py",
   "mimetype": "text/x-python",
   "name": "python",
   "nbconvert_exporter": "python",
   "pygments_lexer": "ipython3",
   "version": "3.12.2"
  }
 },
 "nbformat": 4,
 "nbformat_minor": 2
}
